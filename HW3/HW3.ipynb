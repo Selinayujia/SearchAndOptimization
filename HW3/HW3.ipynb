{
 "cells": [
  {
   "cell_type": "code",
   "execution_count": 138,
   "id": "9bef9858",
   "metadata": {},
   "outputs": [
    {
     "name": "stdout",
     "output_type": "stream",
     "text": [
      "TRAJECTORY\n",
      " [array([[ 0.,  0.,  0.],\n",
      "       [ 0.,  0., -1.],\n",
      "       [ 0.,  0.,  0.]]), array([[ 1.,  0.,  0.],\n",
      "       [ 0., -1., -1.],\n",
      "       [ 0.,  0.,  0.]]), array([[ 1.,  0.,  0.],\n",
      "       [ 0., -1., -1.],\n",
      "       [ 1., -1.,  0.]]), array([[ 1.,  0., -1.],\n",
      "       [ 0., -1., -1.],\n",
      "       [ 1., -1.,  1.]]), array([[ 1.,  0., -1.],\n",
      "       [ 1., -1., -1.],\n",
      "       [ 1., -1.,  1.]])]\n",
      "State:\n",
      "[[ 0.  0.  0.]\n",
      " [ 0.  0. -1.]\n",
      " [ 0.  0.  0.]]\n",
      "Reward to go:  3.439\n",
      "\n",
      "State:\n",
      "[[ 1.  0.  0.]\n",
      " [ 0. -1. -1.]\n",
      " [ 0.  0.  0.]]\n",
      "Reward to go:  2.71\n",
      "\n",
      "State:\n",
      "[[ 1.  0.  0.]\n",
      " [ 0. -1. -1.]\n",
      " [ 1. -1.  0.]]\n",
      "Reward to go:  1.9\n",
      "\n",
      "State:\n",
      "[[ 1.  0. -1.]\n",
      " [ 0. -1. -1.]\n",
      " [ 1. -1.  1.]]\n",
      "Reward to go:  1.0\n",
      "\n",
      "TRAJECTORY\n",
      " [array([[ 0.,  0.,  0.],\n",
      "       [ 0.,  0., -1.],\n",
      "       [ 0.,  0.,  0.]]), array([[ 0.,  0.,  0.],\n",
      "       [ 1.,  0., -1.],\n",
      "       [-1.,  0.,  0.]]), array([[ 1.,  0., -1.],\n",
      "       [ 1.,  0., -1.],\n",
      "       [-1.,  0.,  0.]]), array([[ 1.,  0., -1.],\n",
      "       [ 1., -1., -1.],\n",
      "       [-1.,  0.,  1.]])]\n",
      "State:\n",
      "[[ 0.  0.  0.]\n",
      " [ 0.  0. -1.]\n",
      " [ 0.  0.  0.]]\n",
      "Reward to go:  -4.580000000000001\n",
      "\n",
      "State:\n",
      "[[ 0.  0.  0.]\n",
      " [ 1.  0. -1.]\n",
      " [-1.  0.  0.]]\n",
      "Reward to go:  -6.200000000000001\n",
      "\n",
      "State:\n",
      "[[ 1.  0. -1.]\n",
      " [ 1.  0. -1.]\n",
      " [-1.  0.  0.]]\n",
      "Reward to go:  -8.0\n",
      "\n",
      "State:\n",
      "[[ 1.  0. -1.]\n",
      " [ 1. -1. -1.]\n",
      " [-1.  0.  1.]]\n",
      "Reward to go:  -10.0\n",
      "\n",
      "TRAJECTORY\n",
      " [array([[ 0.,  0.,  0.],\n",
      "       [ 0.,  0.,  0.],\n",
      "       [ 0.,  0., -1.]]), array([[ 0.,  0.,  0.],\n",
      "       [ 0.,  0., -1.],\n",
      "       [ 0.,  1., -1.]]), array([[ 1.,  0.,  0.],\n",
      "       [ 0., -1., -1.],\n",
      "       [ 0.,  1., -1.]]), array([[ 1., -1.,  0.],\n",
      "       [ 1., -1., -1.],\n",
      "       [ 0.,  1., -1.]]), array([[ 1., -1.,  0.],\n",
      "       [ 1., -1., -1.],\n",
      "       [ 1.,  1., -1.]])]\n",
      "State:\n",
      "[[ 0.  0.  0.]\n",
      " [ 0.  0.  0.]\n",
      " [ 0.  0. -1.]]\n",
      "Reward to go:  3.439\n",
      "\n",
      "State:\n",
      "[[ 0.  0.  0.]\n",
      " [ 0.  0. -1.]\n",
      " [ 0.  1. -1.]]\n",
      "Reward to go:  2.71\n",
      "\n",
      "State:\n",
      "[[ 1.  0.  0.]\n",
      " [ 0. -1. -1.]\n",
      " [ 0.  1. -1.]]\n",
      "Reward to go:  1.9\n",
      "\n",
      "State:\n",
      "[[ 1. -1.  0.]\n",
      " [ 1. -1. -1.]\n",
      " [ 0.  1. -1.]]\n",
      "Reward to go:  1.0\n",
      "\n",
      "TRAJECTORY\n",
      " [array([[ 0.,  0.,  0.],\n",
      "       [ 0.,  0.,  0.],\n",
      "       [ 0.,  0., -1.]]), array([[ 0.,  1.,  0.],\n",
      "       [ 0., -1.,  0.],\n",
      "       [ 0.,  0., -1.]]), array([[ 1.,  1., -1.],\n",
      "       [ 0., -1.,  0.],\n",
      "       [ 0.,  0., -1.]]), array([[ 1.,  1., -1.],\n",
      "       [ 1., -1.,  0.],\n",
      "       [-1.,  0., -1.]])]\n",
      "State:\n",
      "[[ 0.  0.  0.]\n",
      " [ 0.  0.  0.]\n",
      " [ 0.  0. -1.]]\n",
      "Reward to go:  -4.580000000000001\n",
      "\n",
      "State:\n",
      "[[ 0.  1.  0.]\n",
      " [ 0. -1.  0.]\n",
      " [ 0.  0. -1.]]\n",
      "Reward to go:  -6.200000000000001\n",
      "\n",
      "State:\n",
      "[[ 1.  1. -1.]\n",
      " [ 0. -1.  0.]\n",
      " [ 0.  0. -1.]]\n",
      "Reward to go:  -8.0\n",
      "\n",
      "State:\n",
      "[[ 1.  1. -1.]\n",
      " [ 1. -1.  0.]\n",
      " [-1.  0. -1.]]\n",
      "Reward to go:  -10.0\n",
      "\n",
      "TRAJECTORY\n",
      " [array([[ 0.,  0.,  0.],\n",
      "       [ 0.,  0.,  0.],\n",
      "       [ 0., -1.,  0.]]), array([[ 0., -1.,  0.],\n",
      "       [ 0.,  0.,  1.],\n",
      "       [ 0., -1.,  0.]]), array([[ 1., -1., -1.],\n",
      "       [ 0.,  0.,  1.],\n",
      "       [ 0., -1.,  0.]]), array([[ 1., -1., -1.],\n",
      "       [ 0., -1.,  1.],\n",
      "       [ 1., -1.,  0.]])]\n",
      "State:\n",
      "[[ 0.  0.  0.]\n",
      " [ 0.  0.  0.]\n",
      " [ 0. -1.  0.]]\n",
      "Reward to go:  -4.580000000000001\n",
      "\n",
      "State:\n",
      "[[ 0. -1.  0.]\n",
      " [ 0.  0.  1.]\n",
      " [ 0. -1.  0.]]\n",
      "Reward to go:  -6.200000000000001\n",
      "\n",
      "State:\n",
      "[[ 1. -1. -1.]\n",
      " [ 0.  0.  1.]\n",
      " [ 0. -1.  0.]]\n",
      "Reward to go:  -8.0\n",
      "\n",
      "State:\n",
      "[[ 1. -1. -1.]\n",
      " [ 0. -1.  1.]\n",
      " [ 1. -1.  0.]]\n",
      "Reward to go:  -10.0\n",
      "\n"
     ]
    }
   ],
   "source": [
    "#Q1\n",
    "import numpy as np\n",
    "import copy\n",
    "\n",
    "DEFAULT_CONT = 1\n",
    "\n",
    "def get_open_spaces(board):\n",
    "    open_spaces = []\n",
    "    for i in range(len(board)):\n",
    "        for j in range(len(board[i])):\n",
    "            if (board[i][j] == 0):\n",
    "                open_spaces.append((i,j))\n",
    "    return open_spaces\n",
    "\n",
    "def is_winner(board, circle=True):\n",
    "    goal = len(board)\n",
    "    if (not circle):\n",
    "        goal *= -1\n",
    "\n",
    "    # Check rows\n",
    "    for i in range(len(board)):\n",
    "        if (sum(board[i]) == goal):\n",
    "            return True\n",
    "\n",
    "    # Check cols\n",
    "    for i in range(len(board[i])):\n",
    "        if (sum(board[:,i]) == goal):\n",
    "            return True\n",
    "\n",
    "    # Check diagonal\n",
    "    d1 = [board[x][x] for x in range(len(board))]\n",
    "    d2 = [board[x][len(board)-x-1] for x in range(len(board))]\n",
    "    if (sum(d1) == goal or sum(d2) == goal):\n",
    "        return True\n",
    "\n",
    "    return False\n",
    "\n",
    "def get_reward(board, num_open_spaces, cont):\n",
    "    if (is_winner(board, True)): # Player wins\n",
    "        return 10\n",
    "    if (is_winner(board, False)): # Opponent wins\n",
    "        return -10\n",
    "    if (num_open_spaces == 0):\n",
    "        return 0\n",
    "    return cont\n",
    "\n",
    "def random_move(board, open_spaces, isplayer):\n",
    "    if isplayer:\n",
    "        marker = 1\n",
    "    else:\n",
    "        marker = -1\n",
    "    index = np.random.randint(0, len(open_spaces))\n",
    "    board[open_spaces[index]] = marker\n",
    "\n",
    "def calculate_rewardtogo(reward, discount):\n",
    "    rewardtogo = [0. for i in range(len(reward))] \n",
    "    for i in range(len(reward)):\n",
    "        for j in range(i, len(reward)):\n",
    "            rewardtogo[i] += reward[j] * discount ** (j-i)\n",
    "    return rewardtogo\n",
    "\n",
    "def MDP(board):\n",
    "    states = []\n",
    "    reward = [] # reward at each state\n",
    "    player_turn = False\n",
    "    while (True):\n",
    "        open_spaces = get_open_spaces(board)\n",
    "        r = get_reward(board, len(open_spaces), DEFAULT_CONT)\n",
    "        if player_turn:\n",
    "            states.append(copy.deepcopy(board))\n",
    "            reward.append(r)\n",
    "        if (r != 1): # Game over\n",
    "            if r == 10:\n",
    "                states.append(copy.deepcopy(board))\n",
    "                #reward.append(r) state and reward before terminal cases\n",
    "                \n",
    "            break\n",
    "        random_move(board, open_spaces, player_turn)\n",
    "        if player_turn:\n",
    "            player_turn = False\n",
    "        else:\n",
    "            player_turn = True\n",
    "    return reward, states\n",
    "\n",
    "init_board = np.zeros((3,3))\n",
    "discount = 0.9\n",
    "seeds = [0,1,2,3,4]\n",
    "for i in range(len(seeds)):\n",
    "    np.random.seed(seeds[i])\n",
    "    board = copy.deepcopy(init_board)\n",
    "    reward,states = MDP(board)\n",
    "    rewardtogo = calculate_rewardtogo(reward, discount)\n",
    "    print('TRAJECTORY\\n', states)\n",
    "    for i in range(len(rewardtogo)):\n",
    "        print('State:')\n",
    "        print(states[i])\n",
    "        print('Reward to go: ', rewardtogo[i])\n",
    "        print('')\n",
    "\n",
    "                        "
   ]
  },
  {
   "cell_type": "code",
   "execution_count": 91,
   "id": "ff52cf7d",
   "metadata": {},
   "outputs": [],
   "source": [
    "def get_all_states(board, all_states, turn, cont):\n",
    "    skip = False\n",
    "    if turn:\n",
    "        board_str = np.array2string(board)\n",
    "        if board_str in all_states:\n",
    "            skip = True\n",
    "        else:\n",
    "            all_states[board_str] = copy.deepcopy(board)\n",
    "    open_spaces = get_open_spaces(board)\n",
    "    r = get_reward(board, len(open_spaces), cont)\n",
    "    if r == cont or not skip: # Game is not over\n",
    "        for i in open_spaces:\n",
    "            if turn:\n",
    "                board[i] = 1\n",
    "            else:\n",
    "                board[i] = -1\n",
    "            get_all_states(copy.deepcopy(board), all_states, not turn, cont)\n",
    "            board[i] = 0\n"
   ]
  },
  {
   "cell_type": "code",
   "execution_count": 148,
   "id": "2d177047",
   "metadata": {},
   "outputs": [],
   "source": [
    "import collections\n",
    "\n",
    "\n",
    "def value_iteration(init_board, discount, cont):\n",
    "    all_states = {}\n",
    "    board = copy.deepcopy(init_board)\n",
    "    get_all_states(board, all_states, False, cont)\n",
    "\n",
    "    new_values = {k:0 for k in all_states}\n",
    "    it = 0\n",
    "    # start from 0\n",
    "    res = collections.defaultdict(lambda:[0])\n",
    "    while (True):\n",
    "        values = copy.deepcopy(new_values)\n",
    "        delta = 0\n",
    "        for s in all_states.keys():\n",
    "            curr_state = copy.deepcopy(all_states[s])\n",
    "            open_spaces = get_open_spaces(curr_state)\n",
    "            r = get_reward(curr_state, len(open_spaces), cont)\n",
    "  \n",
    "\n",
    "            best_action = 0.\n",
    "            if r == cont:\n",
    "                for i in range(len(open_spaces)):\n",
    "                    curr_action = 0.\n",
    "                    num_pos = 0.\n",
    "                    for j in range(len(open_spaces)):\n",
    "                        if (i != j):\n",
    "                            num_pos += 1\n",
    "                            player_move = open_spaces[i]\n",
    "                            opponent_move = open_spaces[j]\n",
    "                            tmp_state = copy.deepcopy(curr_state)\n",
    "                            tmp_state[player_move] = 1\n",
    "                            tmp_state[opponent_move] = -1\n",
    "                            board_str = np.array2string(tmp_state)\n",
    "                            if (board_str in values):\n",
    "                                curr_action += values[board_str]\n",
    "                    curr_action = curr_action / num_pos\n",
    "                    if (curr_action > best_action):\n",
    "                        best_action = curr_action \n",
    "            # Set updated value\n",
    "            new_values[s] = r + discount * best_action\n",
    "      \n",
    "            if res[s][-1] is None:\n",
    "                continue\n",
    "            res[s].append(new_values[s])\n",
    "\n",
    "            value_change = abs(new_values[s] - values[s])\n",
    "            if value_change < 0.1: # terminal cases reaches first for some states\n",
    "                res[s].append(None)\n",
    "            if value_change > delta:\n",
    "                delta = abs(new_values[s] - values[s])\n",
    "\n",
    "        if (delta < 0.1):\n",
    "            break\n",
    "        it += 1\n",
    "    return res"
   ]
  },
  {
   "cell_type": "code",
   "execution_count": 133,
   "id": "0dd7a78b",
   "metadata": {},
   "outputs": [],
   "source": [
    "\n",
    "board = copy.deepcopy(init_board)\n",
    "target = np.array([[-1.,0.,-1.], [1.,1.,0.], [ -1.,  0., 0.]])\n",
    "target_string = np.array2string(target)\n",
    "values = value_iteration(board, discount, DEFAULT_CONT)\n"
   ]
  },
  {
   "cell_type": "code",
   "execution_count": 137,
   "id": "ca05981f",
   "metadata": {},
   "outputs": [
    {
     "data": {
      "image/png": "[encoded data removed]",
      "text/plain": [
       "<Figure size 640x480 with 1 Axes>"
      ]
     },
     "metadata": {},
     "output_type": "display_data"
    }
   ],
   "source": [
    "#Q2\n",
    "target = np.array([[-1.,0.,-1.], [1.,1.,0.], [ -1.,  0., 0.]])\n",
    "# the board in figure 1\n",
    "target_string = np.array2string(target)\n",
    "\n",
    "value_updates = values[target_string][:-1]\n",
    "\n",
    "import matplotlib.pyplot as plt\n",
    "plt.plot(value_updates)\n",
    "plt.ylabel('optimal value updates')\n",
    "plt.xlabel('iterations')\n",
    "plt.show()\n"
   ]
  },
  {
   "cell_type": "code",
   "execution_count": 195,
   "id": "54066508",
   "metadata": {},
   "outputs": [],
   "source": []
  },
  {
   "cell_type": "code",
   "execution_count": 532,
   "id": "52686a2a",
   "metadata": {},
   "outputs": [],
   "source": [
    "def get_open_spaces(s):\n",
    "    open_spaces = []\n",
    "    for i in range(len(s)):\n",
    "        for j in range(len(s[i])):\n",
    "            if (s[i][j] == 0):\n",
    "                open_spaces.append((i,j))\n",
    "    return open_spaces\n",
    "\n",
    "def get_next_states(state,move):\n",
    "    res = [] \n",
    "    s  = copy.deepcopy(state)\n",
    "    i,j = move\n",
    "    s[i][j] = 1\n",
    "    if len(get_open_spaces(s)) == 0:\n",
    "        res.append([s, 1])\n",
    "        return res\n",
    "    else:\n",
    "        oppo_open_spaces = get_open_spaces(s)\n",
    "        prob = 1 / len(oppo_open_spaces)\n",
    "        for space in oppo_open_spaces:\n",
    "            oppo_state = copy.deepcopy(s)\n",
    "            i,j = space\n",
    "            oppo_state[i][j] = -1\n",
    "            res.append([oppo_state, prob])\n",
    "    return res\n",
    "\n",
    "def create_all_states(curr_state, all_states, V):\n",
    "    curr_state = np.array(curr_state)\n",
    "    state_string = np.array2string(curr_state)\n",
    "    V[state_string] = [0, curr_state]\n",
    "    all_states.append(curr_state)\n",
    "    spaces = get_open_spaces(curr_state)\n",
    "    if len(spaces) == 0:\n",
    "        return all_states\n",
    "\n",
    "    for space in spaces:\n",
    "        \n",
    "        new_state = copy.deepcopy(curr_state)\n",
    "        \n",
    "        i,j = space\n",
    "        new_state[i][j] = 1\n",
    "\n",
    "        \n",
    "        if len(get_open_spaces(new_state)) == 0:\n",
    "            V[np.array2string(new_state)] = [0, new_state]\n",
    "            all_states.append(new_state)\n",
    "            continue\n",
    "        else:\n",
    "            oppo_spaces = get_open_spaces(new_state)\n",
    "            for oppo_space in oppo_spaces:\n",
    "                oppo_state = list(copy.deepcopy(new_state))\n",
    "                i,j = oppo_space\n",
    "                oppo_state[i][j] = -1\n",
    "                \n",
    "                all_states = create_all_states(oppo_state, all_states, V)\n",
    "    return all_states\n",
    "\n",
    "def value_interation(state, tolerant, string_state):\n",
    "\n",
    "    allStates = []\n",
    "    new_V = {}\n",
    "    create_all_states(state, allStates, new_V)\n",
    "    num_iteration = 1\n",
    "    graph = [0]\n",
    "    target_action = None\n",
    "\n",
    "    while True:\n",
    "        V = copy.deepcopy(new_V)\n",
    "        err = 0\n",
    "        num_iteration += 1\n",
    "        for state_string in V:\n",
    "            curr_state = V[state_string][1]\n",
    "            \n",
    "            open_spaces = get_open_spaces(curr_state)\n",
    "            scores = [0] * len(open_spaces)\n",
    "            if not open_spaces:\n",
    "                new_V[state_string] = [get_reward(curr_state,open_spaces,1), curr_state]\n",
    "            else: \n",
    "                \n",
    "                for i, space in enumerate(open_spaces):\n",
    "                    next_state_w_prob = get_next_states(curr_state, space)\n",
    "                    for ns_p in next_state_w_prob:\n",
    "                        scores[i] += ns_p[1] * V[np.array2string(ns_p[0])][0]\n",
    "        \n",
    "                new_V[state_string][0] = get_reward(curr_state,open_spaces,1) + gamma * max(scores)\n",
    "            \n",
    "            \n",
    "            \n",
    "            if state_string == string_state:\n",
    "                if abs(new_V[state_string][0]) <= 10:\n",
    "                    graph.append(new_V[state_string][0])\n",
    "                if scores and new_V[state_string][0] >= -10:\n",
    "                    target_action  = open_spaces[scores.index(max(scores))]\n",
    "                else:\n",
    "                    target_action = None\n",
    "                    \n",
    "                \n",
    "            if abs(new_V[state_string][0] - V[state_string][0]) > err:\n",
    "                err = abs(new_V[state_string][0] - V[state_string][0])\n",
    "        if err < tolerant:\n",
    "\n",
    "            return graph, target_action\n"
   ]
  },
  {
   "cell_type": "code",
   "execution_count": 533,
   "id": "2df45484",
   "metadata": {},
   "outputs": [
    {
     "name": "stdout",
     "output_type": "stream",
     "text": [
      "optimal_v: 8.6878\n",
      "action pos: (0, 0)\n"
     ]
    }
   ],
   "source": [
    "#Q3\n",
    "S1_1 = np.array([[0, 0, 0], [0, 0, -1], [0, 0, 0]])\n",
    "optimal_values, actions = value_interation(S1_1,0.1,np.array2string(S1_1))\n",
    "print(\"optimal_v:\",optimal_values[-1])\n",
    "print(\"action pos:\",actions)\n"
   ]
  },
  {
   "cell_type": "code",
   "execution_count": 534,
   "id": "dc60c608",
   "metadata": {},
   "outputs": [
    {
     "name": "stdout",
     "output_type": "stream",
     "text": [
      "optimal_v: 8.541999999999998\n",
      "action pos: (1, 0)\n"
     ]
    }
   ],
   "source": [
    "S1_2 = np.array([[1, 0, 0], [0, -1, -1], [0, 0, 0]])\n",
    "optimal_values, actions = value_interation(S1_2,0.1,np.array2string(S1_2))\n",
    "print(\"optimal_v:\",optimal_values[-1])\n",
    "print(\"action pos:\",actions)"
   ]
  },
  {
   "cell_type": "code",
   "execution_count": 367,
   "id": "b4852714",
   "metadata": {},
   "outputs": [
    {
     "name": "stdout",
     "output_type": "stream",
     "text": [
      "optimal_v: 10.0\n",
      "action pos: (1, 0)\n"
     ]
    }
   ],
   "source": [
    "S1_3 = np.array([[1, 0, 0], [0, -1, -1], [1, -1, 0]])\n",
    "optimal_values, actions = value_interation(S1_3,0.1,np.array2string(S1_3))\n",
    "print(\"optimal_v:\",optimal_values[-1])\n",
    "print(\"action pos:\",actions)"
   ]
  },
  {
   "cell_type": "code",
   "execution_count": 368,
   "id": "48f45e7b",
   "metadata": {},
   "outputs": [
    {
     "name": "stdout",
     "output_type": "stream",
     "text": [
      "optimal_v: 10.0\n",
      "action pos: (1, 0)\n"
     ]
    }
   ],
   "source": [
    "S1_4 = np.array([[1, 0, -1], [0, -1, -1], [1, -1, 1]])\n",
    "optimal_values, actions = value_interation(S1_3,0.1,np.array2string(S1_3))\n",
    "print(\"optimal_v:\",optimal_values[-1])\n",
    "print(\"action pos:\",actions)"
   ]
  },
  {
   "cell_type": "code",
   "execution_count": 369,
   "id": "73926554",
   "metadata": {},
   "outputs": [
    {
     "name": "stdout",
     "output_type": "stream",
     "text": [
      "optimal_v: 10.0\n",
      "action pos: (0, 1)\n"
     ]
    }
   ],
   "source": [
    "S1_5 = np.array([[1, 0, -1], [1, -1, -1], [1, -1, 1]])\n",
    "optimal_values, actions = value_interation(S1_5,0.1,np.array2string(S1_5))\n",
    "print(\"optimal_v:\",optimal_values[-1])\n",
    "print(\"action pos:\",actions)"
   ]
  },
  {
   "cell_type": "code",
   "execution_count": 373,
   "id": "c8b02137",
   "metadata": {},
   "outputs": [
    {
     "name": "stdout",
     "output_type": "stream",
     "text": [
      "optimal_v: 8.6878\n",
      "action pos: (1, 1)\n"
     ]
    }
   ],
   "source": [
    "S2_1 = np.array([[0, 0, 0], [0, 0, 0], [0, 0, -1]])\n",
    "optimal_values, actions = value_interation(S2_1,0.1,np.array2string(S2_1))\n",
    "print(\"optimal_v:\",optimal_values[-1])\n",
    "print(\"action pos:\",actions)"
   ]
  },
  {
   "cell_type": "code",
   "execution_count": 376,
   "id": "122fcd78",
   "metadata": {},
   "outputs": [
    {
     "name": "stdout",
     "output_type": "stream",
     "text": [
      "optimal_v: 6.562\n",
      "action pos: (1, 1)\n"
     ]
    }
   ],
   "source": [
    "S2_2 = np.array([[0, 0, 0], [0, 0, -1], [0, 1, -1]])\n",
    "optimal_values, actions = value_interation(S2_2,0.1,np.array2string(S2_2))\n",
    "print(\"optimal_v:\",optimal_values[-1])\n",
    "print(\"action pos:\",actions)"
   ]
  },
  {
   "cell_type": "code",
   "execution_count": 377,
   "id": "0dbdc46b",
   "metadata": {},
   "outputs": [
    {
     "name": "stdout",
     "output_type": "stream",
     "text": [
      "optimal_v: 4.27\n",
      "action pos: (0, 2)\n"
     ]
    }
   ],
   "source": [
    "S2_3 = np.array([[1, 0, 0], [0, -1, -1], [0, 1, -1]])\n",
    "optimal_values, actions = value_interation(S2_3,0.1,np.array2string(S2_3))\n",
    "print(\"optimal_v:\",optimal_values[-1])\n",
    "print(\"action pos:\",actions)"
   ]
  },
  {
   "cell_type": "code",
   "execution_count": 378,
   "id": "094eaf0c",
   "metadata": {},
   "outputs": [
    {
     "name": "stdout",
     "output_type": "stream",
     "text": [
      "optimal_v: 10.0\n",
      "action pos: (2, 0)\n"
     ]
    }
   ],
   "source": [
    "S2_4 = np.array([[1, -1, 0], [1, -1, -1], [0, 1, -1]])\n",
    "optimal_values, actions = value_interation(S2_4,0.1,np.array2string(S2_4))\n",
    "print(\"optimal_v:\",optimal_values[-1])\n",
    "print(\"action pos:\",actions)"
   ]
  },
  {
   "cell_type": "code",
   "execution_count": 380,
   "id": "803fa787",
   "metadata": {},
   "outputs": [
    {
     "name": "stdout",
     "output_type": "stream",
     "text": [
      "optimal_v: 8.6878\n",
      "action pos: (1, 1)\n"
     ]
    }
   ],
   "source": [
    "S3_1 = np.array([[0, 0, 0], [0, 0, 0], [0, 0, -1]])\n",
    "optimal_values, actions = value_interation(S3_1,0.1,np.array2string(S3_1))\n",
    "print(\"optimal_v:\",optimal_values[-1])\n",
    "print(\"action pos:\",actions)"
   ]
  },
  {
   "cell_type": "code",
   "execution_count": 381,
   "id": "bd862f8b",
   "metadata": {},
   "outputs": [
    {
     "name": "stdout",
     "output_type": "stream",
     "text": [
      "optimal_v: 7.948\n",
      "action pos: (0, 0)\n"
     ]
    }
   ],
   "source": [
    "S3_2 = np.array([[0, 1, 0], [0, -1, 0], [0, 0, -1]])\n",
    "optimal_values, actions = value_interation(S3_2,0.1,np.array2string(S3_2))\n",
    "print(\"optimal_v:\",optimal_values[-1])\n",
    "print(\"action pos:\",actions)"
   ]
  },
  {
   "cell_type": "code",
   "execution_count": 383,
   "id": "ad40e74e",
   "metadata": {},
   "outputs": [
    {
     "name": "stdout",
     "output_type": "stream",
     "text": [
      "optimal_v: 4.27\n",
      "action pos: (2, 0)\n"
     ]
    }
   ],
   "source": [
    "S3_3 = np.array([[1, 1, -1], [0, -1, 0], [0, 0, -1]])\n",
    "optimal_values, actions = value_interation(S3_3,0.1,np.array2string(S3_3))\n",
    "print(\"optimal_v:\",optimal_values[-1])\n",
    "print(\"action pos:\",actions)"
   ]
  },
  {
   "cell_type": "code",
   "execution_count": 388,
   "id": "cc54ca02",
   "metadata": {},
   "outputs": [
    {
     "name": "stdout",
     "output_type": "stream",
     "text": [
      "optimal_v: -10.0\n",
      "action pos: None\n"
     ]
    }
   ],
   "source": [
    "S3_4 = np.array([[1, 1, -1], [1, -1, 0], [-1, 0, -1]])\n",
    "optimal_values, actions = value_interation(S3_4,0.1,np.array2string(S3_4))\n",
    "print(\"optimal_v:\",optimal_values[-1])\n",
    "print(\"action pos:\",actions)"
   ]
  },
  {
   "cell_type": "code",
   "execution_count": 389,
   "id": "63c8b135",
   "metadata": {},
   "outputs": [
    {
     "name": "stdout",
     "output_type": "stream",
     "text": [
      "optimal_v: 8.541999999999998\n",
      "action pos: (0, 2)\n"
     ]
    }
   ],
   "source": [
    "S4_1 = np.array([[1, 0, 0], [0, -1, 0], [-1, 0, 0]])\n",
    "optimal_values, actions = value_interation(S4_1,0.1,np.array2string(S4_1))\n",
    "print(\"optimal_v:\",optimal_values[-1])\n",
    "print(\"action pos:\",actions)"
   ]
  },
  {
   "cell_type": "code",
   "execution_count": 391,
   "id": "20fdf7f1",
   "metadata": {},
   "outputs": [
    {
     "name": "stdout",
     "output_type": "stream",
     "text": [
      "optimal_v: 7.569999999999999\n",
      "action pos: (0, 2)\n"
     ]
    }
   ],
   "source": [
    "S4_2 = np.array([[1, 0, 0], [0, -1, 0], [-1, 1, -1]])\n",
    "optimal_values, actions = value_interation(S4_2,0.1,np.array2string(S4_2))\n",
    "print(\"optimal_v:\",optimal_values[-1])\n",
    "print(\"action pos:\",actions)"
   ]
  },
  {
   "cell_type": "code",
   "execution_count": 393,
   "id": "71b42a70",
   "metadata": {},
   "outputs": [
    {
     "name": "stdout",
     "output_type": "stream",
     "text": [
      "optimal_v: 10.0\n",
      "action pos: (0, 1)\n"
     ]
    }
   ],
   "source": [
    "S4_3 = np.array([[1, 0, 1], [0, -1, -1], [-1, 1, -1]])\n",
    "optimal_values, actions = value_interation(S4_3,0.1,np.array2string(S4_3))\n",
    "print(\"optimal_v:\",optimal_values[-1])\n",
    "print(\"action pos:\",actions)"
   ]
  },
  {
   "cell_type": "code",
   "execution_count": 394,
   "id": "e1d25405",
   "metadata": {},
   "outputs": [
    {
     "name": "stdout",
     "output_type": "stream",
     "text": [
      "optimal_v: 8.687800000000003\n",
      "action pos: (0, 2)\n"
     ]
    }
   ],
   "source": [
    "S5_1 = np.array([[0, 0, 0], [-1, 0, 0], [0, 0, 0]])\n",
    "optimal_values, actions = value_interation(S5_1,0.1,np.array2string(S5_1))\n",
    "print(\"optimal_v:\",optimal_values[-1])\n",
    "print(\"action pos:\",actions)"
   ]
  },
  {
   "cell_type": "code",
   "execution_count": 397,
   "id": "006ea958",
   "metadata": {},
   "outputs": [
    {
     "name": "stdout",
     "output_type": "stream",
     "text": [
      "optimal_v: 7.219\n",
      "action pos: (1, 1)\n"
     ]
    }
   ],
   "source": [
    "S5_2 = np.array([[0, 0, -1], [-1, 0, 1], [0, 0, 0]])\n",
    "optimal_values, actions = value_interation(S5_2,0.1,np.array2string(S5_2))\n",
    "print(\"optimal_v:\",optimal_values[-1])\n",
    "print(\"action pos:\",actions)"
   ]
  },
  {
   "cell_type": "code",
   "execution_count": 411,
   "id": "0b95fbf4",
   "metadata": {},
   "outputs": [
    {
     "name": "stdout",
     "output_type": "stream",
     "text": [
      "optimal_v: -8.0\n",
      "action pos: (0, 1)\n"
     ]
    }
   ],
   "source": [
    "S5_4 = np.array([[1, 0, -1], [-1, -1, 1], [0, -1, 1]])\n",
    "optimal_values, actions = value_interation(S5_4,0.1,np.array2string(S5_4))\n",
    "print(\"optimal_v:\",optimal_values[-1])\n",
    "print(\"action pos:\",actions)"
   ]
  },
  {
   "cell_type": "code",
   "execution_count": 417,
   "id": "f9ff54d0",
   "metadata": {},
   "outputs": [
    {
     "name": "stdout",
     "output_type": "stream",
     "text": [
      "optimal_v: -10\n",
      "action pos: None\n"
     ]
    }
   ],
   "source": [
    "S5_5 = np.array([[1, -1, -1], [-1, -1, 1], [1, -1, 1]])\n",
    "optimal_values, actions = value_interation(S5_5,0.1,np.array2string(S5_5))\n",
    "print(\"optimal_v:\",optimal_values[-1])\n",
    "print(\"action pos:\",actions)"
   ]
  },
  {
   "cell_type": "code",
   "execution_count": 526,
   "id": "68de865e",
   "metadata": {},
   "outputs": [],
   "source": [
    "def value_interation_returns_all_actions(state, tolerant, string_state):\n",
    "\n",
    "    allStates = []\n",
    "    new_V = {}\n",
    "    create_all_states(state, allStates, new_V)\n",
    "    num_iteration = 1\n",
    "    graph = [0]\n",
    "    action = {}\n",
    "\n",
    "    while True:\n",
    "        V = copy.deepcopy(new_V)\n",
    "        err = 0\n",
    "        num_iteration += 1\n",
    "        for state_string in V:\n",
    "            curr_state = V[state_string][1]\n",
    "            \n",
    "            open_spaces = get_open_spaces(curr_state)\n",
    "            scores = [0] * len(open_spaces)\n",
    "            if not open_spaces:\n",
    "                new_V[state_string] = [get_reward(curr_state,open_spaces,1), curr_state]\n",
    "            else: \n",
    "                \n",
    "                for i, space in enumerate(open_spaces):\n",
    "                    next_state_w_prob = get_next_states(curr_state, space)\n",
    "                    for ns_p in next_state_w_prob:\n",
    "                        scores[i] += ns_p[1] * V[np.array2string(ns_p[0])][0]\n",
    "        \n",
    "                new_V[state_string][0] = get_reward(curr_state,open_spaces,1) + gamma * max(scores)\n",
    "            if state_string == string_state:\n",
    "                if abs(new_V[state_string][0]) <= 10:\n",
    "                    graph.append(new_V[state_string][0])\n",
    "            if scores and new_V[state_string][0] >= -10:\n",
    "                action[state_string]  = open_spaces[scores.index(max(scores))]\n",
    "            else:\n",
    "                action[state_string] = None\n",
    "                    \n",
    "                \n",
    "            if abs(new_V[state_string][0] - V[state_string][0]) > err:\n",
    "                err = abs(new_V[state_string][0] - V[state_string][0])\n",
    "        if err < tolerant:\n",
    "\n",
    "            return graph, action"
   ]
  },
  {
   "cell_type": "code",
   "execution_count": 527,
   "id": "7458abb3",
   "metadata": {},
   "outputs": [],
   "source": [
    "import random\n",
    "def gen_traj(state,actions):\n",
    "    s = copy.deepcopy(state)\n",
    "    states = [s]\n",
    "    is_player = True\n",
    "    open_spaces = get_open_spaces(s)\n",
    "    while not (is_winner(s,True) or is_winner(s,False) or len(open_spaces)==0):\n",
    "        \n",
    "        if not is_player:\n",
    "            oppo_pos = random.choice(open_spaces)\n",
    "            i,j = oppo_pos \n",
    "            s[i][j] = -1\n",
    "            new_s = copy.deepcopy(s)\n",
    "            states.append(new_s)\n",
    "        else:\n",
    "            pos = actions[np.array2string(s)]\n",
    "            if pos:\n",
    "                i,j = pos \n",
    "                s[i][j] = 1\n",
    "            \n",
    "        \n",
    "        is_player = not is_player\n",
    "        open_spaces = get_open_spaces(s)\n",
    "        \n",
    "    if not is_player:\n",
    "        states.append(s)\n",
    "\n",
    "    rewards = []\n",
    "    for s in states:\n",
    "        open_spaces = get_open_spaces(s)\n",
    "        rewards.append(get_reward(s,open_spaces, 1))\n",
    "    R = calculate_rewardtogo(rewards,0.9)[1]\n",
    "    return R"
   ]
  },
  {
   "cell_type": "code",
   "execution_count": 528,
   "id": "9e832300",
   "metadata": {},
   "outputs": [],
   "source": [
    "Q5_1 = np.array([[-1, 0, 0], [0, 0, 0], [0, 0, 0]])\n",
    "optimal_values, actions = value_interation_returns_all_actions(Q5_1,0.1,np.array2string(Q5_1))\n"
   ]
  },
  {
   "cell_type": "code",
   "execution_count": 529,
   "id": "283ad0ed",
   "metadata": {},
   "outputs": [
    {
     "data": {
      "text/plain": [
       "Text(0.5, 0, 'k')"
      ]
     },
     "execution_count": 529,
     "metadata": {},
     "output_type": "execute_result"
    },
    {
     "data": {
      "image/png": "[encoded data removed]",
      "text/plain": [
       "<Figure size 640x480 with 1 Axes>"
      ]
     },
     "metadata": {},
     "output_type": "display_data"
    }
   ],
   "source": [
    "reward_to_go = []\n",
    "for k in range(100):\n",
    "    reward_to_go.append(gen_traj(Q5_1,actions))\n",
    "ks = []\n",
    "for k in range(1, 101):\n",
    "    ks.append(sum(reward_to_go[:k]) / k)\n",
    "\n",
    "plt.plot(np.arange(1, 101), ks)\n",
    "plt.ylabel('G(s)')\n",
    "plt.xlabel('k')"
   ]
  },
  {
   "cell_type": "code",
   "execution_count": null,
   "id": "3e40410e",
   "metadata": {},
   "outputs": [],
   "source": [
    "#Q7"
   ]
  },
  {
   "cell_type": "code",
   "execution_count": 620,
   "id": "b867a7c3",
   "metadata": {},
   "outputs": [
    {
     "name": "stdout",
     "output_type": "stream",
     "text": [
      "6.2 6.2 6.2\n"
     ]
    }
   ],
   "source": [
    "import random\n",
    "import numpy as np\n",
    "\n",
    "out_of_grid_penalty = -100\n",
    "end_row = 6\n",
    "\n",
    "\n",
    "alpha = 0.8\n",
    "gamma = 0.9\n",
    "epsilon = 0.2\n",
    "\n",
    "def move(state, action):\n",
    "    if action == 0:\n",
    "        if state[0] + 1 <=end_row :\n",
    "            return [state[0] + 1, state[1]]\n",
    "    if action == 1:\n",
    "        if state[0] + 2 <= end_row:\n",
    "            return [state[0] + 2, state[1]]\n",
    "    if action == 2:\n",
    "        if state[0] + 1 <= end_row:\n",
    "            if state[1] == 0:\n",
    "                return [state[0] + 1, 1]\n",
    "            elif state[1] == 1:\n",
    "                return [state[0] + 1, 0]\n",
    "    return None   \n",
    "\n",
    "def get_reward(state):\n",
    "    if state[0] == end_row:\n",
    "        return 10\n",
    "    else:\n",
    "        return -1\n",
    "\n",
    "def get_all_states():\n",
    "    states = []\n",
    "    Q_values = {}\n",
    "    for i in range(7):\n",
    "        for j in range(2):\n",
    "            states.append([i, j])\n",
    "            Q_values[str([i, j])] = [0, 0, 0]\n",
    "    return states, Q_values\n",
    "\n",
    "\n",
    "\n",
    "\n",
    "def get_Q_values(Q_values):\n",
    "    for i in range(100000):\n",
    "\n",
    "        i = 0\n",
    "        j = random.randint(0, 1)\n",
    "        state = [i,j] #start from the start row\n",
    "        reward = 0\n",
    "\n",
    "        while True:\n",
    "            state_val = str(state)\n",
    "            reward = get_reward(state)\n",
    "            if state[0] == end_row: # reach to target cell\n",
    "                Q_values[state_val] = [reward]*3\n",
    "                break\n",
    "            if random.uniform(0, 1) < epsilon:\n",
    "                action = random.randint(0, 2) # random move\n",
    "            else:\n",
    "                action = Q_values[state_val].index(max(Q_values[state_val])) #move with best move\n",
    "\n",
    "            next_state = move(state, action)\n",
    "            if not next_state: #mostly prevent to drive out two lane\n",
    "                 next_max_q = out_of_grid_penalty \n",
    "            else:\n",
    "                next_max_q = max(Q_values[str(next_state)])\n",
    "                \n",
    "            old_q = Q_values[state_val][action]\n",
    "            new_q = old_q + alpha * (reward + gamma * next_max_q - old_q)\n",
    "            Q_values[state_val][action] = new_q\n",
    "            \n",
    "            if next_state: state = next_state\n",
    "            else: break\n",
    "    return Q_values\n",
    "\n",
    "states, Q_values = get_all_states()\n",
    "d1_str = str([3,0])\n",
    "q_action_1,q_action_2,q_action3 = get_Q_values(Q_values)[d1_str]\n",
    "print(q_action_1,q_action_2,q_action3)\n",
    "\n"
   ]
  },
  {
   "cell_type": "code",
   "execution_count": 633,
   "id": "73c170bd",
   "metadata": {},
   "outputs": [],
   "source": [
    "alpha = 0.8\n",
    "gamma = 0.9\n",
    "epsilon = 0.2\n",
    "hit_penalty = -1000\n",
    "\n",
    "def move_w_pedestrian(state, action, hit):\n",
    "    state[2] -= 1\n",
    "    state[3] += 1\n",
    "    \n",
    "    if state[2] < 0: state[2] = -1\n",
    "    if state[3] > 7: state[3] = -1\n",
    "        \n",
    "    \n",
    "    if action == 0 or action == 1: # one block\n",
    "        if state[0] + 1 <=end_row :\n",
    "            curr_state = state[0] + 1\n",
    "            if curr_state == 3 and state[2] - 3 == state[1]: \n",
    "                #print(curr_state, state[1],state[2],state[3])\n",
    "                hit = True\n",
    "            elif curr_state == 4 and state[3] - 3 == state[1]: hit = True\n",
    "            else:\n",
    "                if action == 0:\n",
    "                    return [ curr_state, state[1],state[2],state[3]], False\n",
    "        \n",
    "    if action == 1: # two blocks\n",
    "        if state[0] + 1 <= end_row:\n",
    "            curr_state = state[0] + 1\n",
    "            if curr_state == 3 and state[2] - 3 == state[1]: hit = True\n",
    "            elif curr_state == 4 and state[3] - 3 == state[1]: hit = True\n",
    "            else:return [curr_state, state[1],state[2],state[3]],False\n",
    "    if action == 2:\n",
    "        if state[0] + 1 <= end_row:\n",
    "            if state[1] == 0:\n",
    "                curr_state = state[0] + 1\n",
    "                if curr_state == 3 and state[2] - 3 == 1: hit = True\n",
    "                elif curr_state == 4 and state[3] - 3 == 1: hit = True\n",
    "                else: return [curr_state, 1, state[2],state[3]],False\n",
    "            elif state[1] == 1:\n",
    "                curr_state = state[0] + 1\n",
    "                if curr_state == 3 and state[2] - 3 == 0: hit = True\n",
    "                elif curr_state == 4 and state[3] - 3 == 0: hit = True\n",
    "                else: return [curr_state, 0, state[2],state[3]],False\n",
    "        \n",
    "            \n",
    "    return None,hit \n",
    "\n",
    "def get_all_states_w_pedestrian():\n",
    "    states = []\n",
    "    Q_values = {}\n",
    "    for i in range(7):\n",
    "        for j in range(2):\n",
    "            for p1 in range(-1, 8):\n",
    "                for p2 in range(-1, 8):\n",
    "                    states.append([i, j,p1,p2])\n",
    "                    Q_values[str([i, j,p1,p2])] = [0, 0, 0]\n",
    "    return states, Q_values\n",
    "\n",
    "def get_Q_values_w_pedestrian(Q_values):\n",
    "    for i in range(1000000):\n",
    "\n",
    "        i = random.randint(0, 6)\n",
    "        j = random.randint(0, 1)\n",
    "        p1 = random.randint(0, 7)\n",
    "        p2 = random.randint(0, 7)\n",
    "        state = [i,j,p1,p2] #start from the start row\n",
    "        reward = 0\n",
    "        hit = False\n",
    "        \n",
    "        while True:\n",
    "            state_val = str(state)\n",
    "            reward = get_reward(state)\n",
    "            if state[0] == end_row: # reach to target cell\n",
    "                Q_values[state_val] = [reward]*3\n",
    "                break\n",
    "            if random.uniform(0, 1) < epsilon:\n",
    "                action = random.randint(0, 2) # random move\n",
    "            else:\n",
    "                action = Q_values[state_val].index(max(Q_values[state_val])) #move with best move\n",
    "\n",
    "            next_state, hit = move_w_pedestrian(state, action, hit)\n",
    "            if not next_state: #mostly prevent to drive out two lane\n",
    "                if not hit:\n",
    "                    next_max_q = out_of_grid_penalty \n",
    "                else:\n",
    "                    #print(state,next_state, action)\n",
    "                    next_max_q = hit_penalty \n",
    "            else:\n",
    "                next_max_q = max(Q_values[str(next_state)])\n",
    "                \n",
    "            old_q = Q_values[state_val][action]\n",
    "            new_q = old_q + alpha * (reward + gamma * next_max_q - old_q)\n",
    "            Q_values[state_val][action] = new_q\n",
    "            \n",
    "            if next_state: state = next_state\n",
    "            else: break # going off grid OR hit\n",
    "    return Q_values\n",
    "\n",
    "states, Q_values = get_all_states_w_pedestrian()\n",
    "updated_qs = get_Q_values_w_pedestrian(Q_values)\n",
    "\n"
   ]
  },
  {
   "cell_type": "code",
   "execution_count": 634,
   "id": "40b82053",
   "metadata": {},
   "outputs": [
    {
     "name": "stdout",
     "output_type": "stream",
     "text": [
      "-901.0 -901.0 4.58\n",
      "-901.0 -901.0 4.58\n",
      "-901.0 -901.0 4.58\n",
      "-901.0 -901.0 4.58\n",
      "-901.0 -901.0 4.58\n",
      "-901.0 -901.0 4.58\n",
      "-901.0 -901.0 4.58\n",
      "-901.0 -901.0 4.58\n",
      "-901.0 -901.0 4.58\n",
      "-901.0 -901.0 4.58\n",
      "-901.0 -901.0 4.58\n",
      "-901.0 -901.0 4.58\n",
      "-901.0 -901.0 4.58\n",
      "-901.0 -901.0 4.58\n",
      "-901.0 -901.0 4.58\n",
      "-901.0 -901.0 4.58\n",
      "-901.0 -901.0 4.58\n",
      "-901.0 -901.0 4.58\n",
      "-901.0 -901.0 4.58\n",
      "-901.0 -901.0 4.58\n",
      "-901.0 -901.0 4.58\n",
      "-901.0 -901.0 4.58\n",
      "-901.0 -901.0 4.58\n",
      "-901.0 -901.0 4.58\n",
      "-901.0 -901.0 4.58\n",
      "-901.0 -901.0 4.58\n",
      "-901.0 -901.0 4.58\n",
      "-901.0 -901.0 4.58\n",
      "-901.0 -901.0 4.58\n",
      "-901.0 -901.0 4.58\n",
      "-901.0 -901.0 4.58\n",
      "-901.0 -901.0 4.58\n",
      "-901.0 -901.0 4.58\n",
      "-901.0 -901.0 4.58\n",
      "-901.0 -901.0 4.58\n",
      "-901.0 -901.0 4.58\n",
      "-901.0 -901.0 4.58\n",
      "-901.0 -901.0 4.58\n",
      "-901.0 -901.0 4.58\n",
      "-901.0 -901.0 4.58\n",
      "-901.0 -901.0 4.58\n",
      "-901.0 -901.0 4.58\n",
      "-901.0 -901.0 4.58\n",
      "-901.0 -901.0 4.58\n",
      "-901.0 -901.0 4.58\n",
      "-901.0 -901.0 4.58\n",
      "-901.0 -901.0 4.58\n",
      "-901.0 -901.0 4.58\n",
      "-901.0 -901.0 4.58\n",
      "-901.0 -901.0 4.58\n",
      "-901.0 -901.0 4.58\n",
      "-901.0 -901.0 4.58\n",
      "-901.0 -901.0 4.58\n",
      "-901.0 -901.0 4.58\n",
      "-901.0 -901.0 4.58\n",
      "-901.0 -901.0 4.58\n",
      "-901.0 -901.0 4.58\n",
      "-901.0 -901.0 4.58\n",
      "-901.0 -901.0 4.58\n",
      "-901.0 -901.0 4.58\n",
      "-901.0 -901.0 4.58\n",
      "-901.0 -901.0 4.58\n",
      "-901.0 -901.0 4.58\n",
      "-901.0 -901.0 4.58\n",
      "-901.0 -901.0 4.58\n",
      "-901.0 -901.0 4.58\n",
      "-901.0 -901.0 4.58\n",
      "-901.0 -901.0 4.58\n",
      "-901.0 -901.0 4.58\n",
      "-901.0 -901.0 4.58\n",
      "-901.0 -901.0 4.58\n",
      "-901.0 -901.0 4.58\n",
      "-901.0 -901.0 4.58\n",
      "-901.0 -901.0 4.58\n",
      "-901.0 -901.0 4.58\n",
      "-901.0 -901.0 4.58\n",
      "-901.0 -901.0 4.58\n",
      "-901.0 -901.0 4.58\n",
      "-901.0 -901.0 4.58\n",
      "-901.0 -901.0 4.58\n",
      "-901.0 -901.0 4.58\n"
     ]
    }
   ],
   "source": [
    "q_a_1,q_a_2,q_a_3 = 0,0,0\n",
    "for i in range(-1,8):\n",
    "    for j in range(-1,8):\n",
    "        #d1_str = str([3,0,i,j])\n",
    "        d1_str = str([3,0,0,2])\n",
    "        q_action_1,q_action_2,q_action_3 = updated_qs[d1_str]\n",
    "        \n",
    "        print(q_action_1,q_action_2,q_action_3)"
   ]
  },
  {
   "cell_type": "code",
   "execution_count": null,
   "id": "efa8a03e",
   "metadata": {},
   "outputs": [],
   "source": []
  }
 ],
 "metadata": {
  "kernelspec": {
   "display_name": "Python 3 (ipykernel)",
   "language": "python",
   "name": "python3"
  },
  "language_info": {
   "codemirror_mode": {
    "name": "ipython",
    "version": 3
   },
   "file_extension": ".py",
   "mimetype": "text/x-python",
   "name": "python",
   "nbconvert_exporter": "python",
   "pygments_lexer": "ipython3",
   "version": "3.9.13"
  }
 },
 "nbformat": 4,
 "nbformat_minor": 5
}
