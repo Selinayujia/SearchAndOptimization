{
 "cells": [
  {
   "cell_type": "code",
   "execution_count": 74,
   "id": "37f1f310",
   "metadata": {},
   "outputs": [],
   "source": [
    "\n",
    "import math\n",
    "\n",
    "def is_even(num):\n",
    "    return num%2 == 0\n",
    "\n",
    "def max_even_else_max(lst):\n",
    "    res = max(lst)\n",
    "    for num in lst:\n",
    "        if is_even(num) and (not is_even(res) or num > res):\n",
    "            res = num\n",
    "    return res\n",
    "       \n",
    " \n"
   ]
  },
  {
   "cell_type": "code",
   "execution_count": 79,
   "id": "24b2251d",
   "metadata": {},
   "outputs": [
    {
     "name": "stdout",
     "output_type": "stream",
     "text": [
      "The optimal value is : 9 22 9 22\n",
      "30 8 30 13\n"
     ]
    },
    {
     "ename": "TypeError",
     "evalue": "can only concatenate list (not \"int\") to list",
     "output_type": "error",
     "traceback": [
      "\u001b[0;31m---------------------------------------------------------------------------\u001b[0m",
      "\u001b[0;31mTypeError\u001b[0m                                 Traceback (most recent call last)",
      "\u001b[0;32m/var/folders/w1/88wg69310jb3zpjbfphb72tc0000gn/T/ipykernel_7457/118294018.py\u001b[0m in \u001b[0;36m<module>\u001b[0;34m\u001b[0m\n\u001b[1;32m     55\u001b[0m \u001b[0mtreeDepth\u001b[0m \u001b[0;34m=\u001b[0m \u001b[0mmath\u001b[0m\u001b[0;34m.\u001b[0m\u001b[0mfloor\u001b[0m\u001b[0;34m(\u001b[0m\u001b[0mmath\u001b[0m\u001b[0;34m.\u001b[0m\u001b[0mlog\u001b[0m\u001b[0;34m(\u001b[0m\u001b[0mlen\u001b[0m\u001b[0;34m(\u001b[0m\u001b[0mscores\u001b[0m\u001b[0;34m)\u001b[0m\u001b[0;34m,\u001b[0m \u001b[0;36m2\u001b[0m\u001b[0;34m)\u001b[0m\u001b[0;34m)\u001b[0m\u001b[0;34m\u001b[0m\u001b[0;34m\u001b[0m\u001b[0m\n\u001b[1;32m     56\u001b[0m \u001b[0mprint\u001b[0m\u001b[0;34m(\u001b[0m\u001b[0;34m\"The optimal value is : \"\u001b[0m\u001b[0;34m,\u001b[0m \u001b[0mend\u001b[0m \u001b[0;34m=\u001b[0m \u001b[0;34m\"\"\u001b[0m\u001b[0;34m)\u001b[0m\u001b[0;34m\u001b[0m\u001b[0;34m\u001b[0m\u001b[0m\n\u001b[0;32m---> 57\u001b[0;31m \u001b[0mprint\u001b[0m\u001b[0;34m(\u001b[0m\u001b[0mevenmax\u001b[0m\u001b[0;34m(\u001b[0m\u001b[0;36m0\u001b[0m\u001b[0;34m,\u001b[0m \u001b[0;36m0\u001b[0m\u001b[0;34m,\u001b[0m \u001b[0;32mTrue\u001b[0m\u001b[0;34m,\u001b[0m \u001b[0mscores\u001b[0m\u001b[0;34m,\u001b[0m \u001b[0mtreeDepth\u001b[0m\u001b[0;34m)\u001b[0m\u001b[0;34m)\u001b[0m\u001b[0;34m\u001b[0m\u001b[0;34m\u001b[0m\u001b[0m\n\u001b[0m\u001b[1;32m     58\u001b[0m \u001b[0;34m\u001b[0m\u001b[0m\n",
      "\u001b[0;32m/var/folders/w1/88wg69310jb3zpjbfphb72tc0000gn/T/ipykernel_7457/118294018.py\u001b[0m in \u001b[0;36mevenmax\u001b[0;34m(curDepth, nodeIndex, maxTurn, scores, targetDepth, option)\u001b[0m\n\u001b[1;32m      9\u001b[0m \u001b[0;34m\u001b[0m\u001b[0m\n\u001b[1;32m     10\u001b[0m     \u001b[0;32mif\u001b[0m \u001b[0;34m(\u001b[0m\u001b[0mmaxTurn\u001b[0m\u001b[0;34m)\u001b[0m\u001b[0;34m:\u001b[0m\u001b[0;34m\u001b[0m\u001b[0;34m\u001b[0m\u001b[0m\n\u001b[0;32m---> 11\u001b[0;31m         \u001b[0mres\u001b[0m \u001b[0;34m=\u001b[0m \u001b[0mevenmax\u001b[0m\u001b[0;34m(\u001b[0m\u001b[0mcurDepth\u001b[0m \u001b[0;34m+\u001b[0m \u001b[0;36m1\u001b[0m\u001b[0;34m,\u001b[0m \u001b[0mnodeIndex\u001b[0m \u001b[0;34m*\u001b[0m \u001b[0;36m2\u001b[0m\u001b[0;34m,\u001b[0m \u001b[0;32mFalse\u001b[0m\u001b[0;34m,\u001b[0m \u001b[0mscores\u001b[0m\u001b[0;34m,\u001b[0m \u001b[0mtargetDepth\u001b[0m\u001b[0;34m)\u001b[0m\u001b[0;34m+\u001b[0m\u001b[0;31m \u001b[0m\u001b[0;31m\\\u001b[0m\u001b[0;34m\u001b[0m\u001b[0;34m\u001b[0m\u001b[0m\n\u001b[0m\u001b[1;32m     12\u001b[0m               \u001b[0mevenmax\u001b[0m\u001b[0;34m(\u001b[0m\u001b[0mcurDepth\u001b[0m \u001b[0;34m+\u001b[0m \u001b[0;36m1\u001b[0m\u001b[0;34m,\u001b[0m \u001b[0mnodeIndex\u001b[0m \u001b[0;34m*\u001b[0m \u001b[0;36m2\u001b[0m \u001b[0;34m+\u001b[0m \u001b[0;36m1\u001b[0m\u001b[0;34m,\u001b[0m \u001b[0;32mFalse\u001b[0m\u001b[0;34m,\u001b[0m \u001b[0mscores\u001b[0m\u001b[0;34m,\u001b[0m \u001b[0mtargetDepth\u001b[0m\u001b[0;34m)\u001b[0m\u001b[0;34m\u001b[0m\u001b[0;34m\u001b[0m\u001b[0m\n\u001b[1;32m     13\u001b[0m         \u001b[0;32mif\u001b[0m \u001b[0mcurDepth\u001b[0m \u001b[0;34m==\u001b[0m \u001b[0;36m0\u001b[0m \u001b[0;32mor\u001b[0m \u001b[0moption\u001b[0m \u001b[0;34m==\u001b[0m \u001b[0;34m'max'\u001b[0m\u001b[0;34m:\u001b[0m\u001b[0;34m\u001b[0m\u001b[0;34m\u001b[0m\u001b[0m\n",
      "\u001b[0;31mTypeError\u001b[0m: can only concatenate list (not \"int\") to list"
     ]
    }
   ],
   "source": [
    "def evenmax (curDepth, nodeIndex,\n",
    "             maxTurn, scores,\n",
    "             targetDepth,option=None):\n",
    " \n",
    "    # base case : targetDepth reached\n",
    "    if (curDepth == targetDepth):\n",
    "        if maxTurn: return scores[nodeIndex]\n",
    "        else: return [scores[nodeIndex]]\n",
    "     \n",
    "    if (maxTurn):\n",
    "        res = evenmax(curDepth + 1, nodeIndex * 2, False, scores, targetDepth)+ \\\n",
    "              evenmax(curDepth + 1, nodeIndex * 2 + 1, False, scores, targetDepth)\n",
    "        if curDepth == 0 or option == 'max':\n",
    "            return max(res)\n",
    "        else:\n",
    "            return max_even_else_max(res)\n",
    "            \n",
    "     \n",
    "    else:\n",
    "        left_1 = evenmax(curDepth + 1, nodeIndex * 2, True, scores, targetDepth, 'even') \n",
    "        left_2 = evenmax(curDepth + 1, nodeIndex * 2, True, scores, targetDepth, 'max')\n",
    "        \n",
    "        right_1 = evenmax(curDepth + 1, nodeIndex * 2 + 1, True, scores, targetDepth, 'even')\n",
    "        right_2 = evenmax(curDepth + 1, nodeIndex * 2 + 1, True, scores, targetDepth, 'max')\n",
    "        \n",
    "        if curDepth == 0:\n",
    "            res = max_even_else_max([left_1,right_1,left_2,right_2])\n",
    "            if is_even(res): return res \n",
    "            else: return min(left_1,right_1,left_2,right_2)\n",
    "            \n",
    "        print(left_1,right_1,left_2,right_2)\n",
    "        if left_1 == left_2 and right_1 == right_2:\n",
    "            left, right = left_1,right_1\n",
    "            if is_even(left) and is_even(right):\n",
    "                 return [max(left, right)]\n",
    "            elif not(is_even(left) or is_even(right)):\n",
    "                return [min(left, right)]\n",
    "            else:\n",
    "                return [left] if is_even(left) else [right]\n",
    "            \n",
    "        elif left_1 == left_2: \n",
    "            if is_even(left_1):\n",
    "                return [max(left_1,right_1)]\n",
    "            else:\n",
    "                return [min(left_2,right_2),right_1]\n",
    "        elif right_1 == right_2:\n",
    "            if is_even(right_1):\n",
    "                return [max(left_1,right_1)]\n",
    "            else:\n",
    "                return[min(left_2,right_2),left_1]\n",
    "        else: return [min(left_2,right_2),max(left_1,right_1)]\n",
    "     \n",
    "scores = [7,9,18,22,30,11,8,13]\n",
    " \n",
    "treeDepth = math.floor(math.log(len(scores), 2))\n",
    "print(\"The optimal value is : \", end = \"\")\n",
    "print(evenmax(0, 0, True, scores, treeDepth))\n",
    " "
   ]
  },
  {
   "cell_type": "code",
   "execution_count": null,
   "id": "0883b0e3",
   "metadata": {},
   "outputs": [],
   "source": []
  },
  {
   "cell_type": "code",
   "execution_count": null,
   "id": "a4473d64",
   "metadata": {},
   "outputs": [],
   "source": []
  }
 ],
 "metadata": {
  "kernelspec": {
   "display_name": "Python 3 (ipykernel)",
   "language": "python",
   "name": "python3"
  },
  "language_info": {
   "codemirror_mode": {
    "name": "ipython",
    "version": 3
   },
   "file_extension": ".py",
   "mimetype": "text/x-python",
   "name": "python",
   "nbconvert_exporter": "python",
   "pygments_lexer": "ipython3",
   "version": "3.9.13"
  }
 },
 "nbformat": 4,
 "nbformat_minor": 5
}
