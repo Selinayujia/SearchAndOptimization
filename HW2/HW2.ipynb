{
 "cells": [
  {
   "cell_type": "code",
   "execution_count": 74,
   "id": "5f44ab93",
   "metadata": {},
   "outputs": [],
   "source": [
    "\n",
    "import math\n",
    "\n",
    "def is_even(num):\n",
    "    return num%2 == 0\n",
    "\n",
    "def max_even_else_max(lst):\n",
    "    res = max(lst)\n",
    "    for num in lst:\n",
    "        if is_even(num) and (not is_even(res) or num > res):\n",
    "            res = num\n",
    "    return res\n",
    "       \n",
    " \n"
   ]
  },
  {
   "cell_type": "code",
   "execution_count": 83,
   "id": "82234621",
   "metadata": {},
   "outputs": [
    {
     "name": "stdout",
     "output_type": "stream",
     "text": [
      "The optimal value is : 18\n"
     ]
    }
   ],
   "source": [
    "def evenmax (curDepth, nodeIndex,\n",
    "             maxTurn, scores,\n",
    "             targetDepth,option=None):\n",
    " \n",
    "    # base case : targetDepth reached\n",
    "    if (curDepth == targetDepth):\n",
    "        if maxTurn: return scores[nodeIndex]\n",
    "        else: return [scores[nodeIndex]]\n",
    "     \n",
    "    if (maxTurn):\n",
    "        res = evenmax(curDepth + 1, nodeIndex * 2, False, scores, targetDepth)+ \\\n",
    "              evenmax(curDepth + 1, nodeIndex * 2 + 1, False, scores, targetDepth)\n",
    "        if curDepth == 0 or option == 'max':\n",
    "            return max(res)\n",
    "        else:\n",
    "            return max_even_else_max(res)\n",
    "            \n",
    "     \n",
    "    else:\n",
    "        left_1 = evenmax(curDepth + 1, nodeIndex * 2, True, scores, targetDepth, 'even') \n",
    "        left_2 = evenmax(curDepth + 1, nodeIndex * 2, True, scores, targetDepth, 'max')\n",
    "        \n",
    "        right_1 = evenmax(curDepth + 1, nodeIndex * 2 + 1, True, scores, targetDepth, 'even')\n",
    "        right_2 = evenmax(curDepth + 1, nodeIndex * 2 + 1, True, scores, targetDepth, 'max')\n",
    "        \n",
    "        if curDepth == 0:\n",
    "            res = max_even_else_max([left_1,right_1,left_2,right_2])\n",
    "            if is_even(res): return res \n",
    "            else: return min(left_1,right_1,left_2,right_2)\n",
    "\n",
    "        if left_1 == left_2 and right_1 == right_2:\n",
    "            left, right = left_1,right_1\n",
    "            if is_even(left) and is_even(right):\n",
    "                 return [max(left, right)]\n",
    "            elif not(is_even(left) or is_even(right)):\n",
    "                return [min(left, right)]\n",
    "            else:\n",
    "                return [left] if is_even(left) else [right]\n",
    "            \n",
    "        elif left_1 == left_2: \n",
    "            if is_even(left_1):\n",
    "                return [max(left_1,right_1)]\n",
    "            else:\n",
    "                return [min(left_2,right_2),right_1]\n",
    "        elif right_1 == right_2:\n",
    "            if is_even(right_1):\n",
    "                return [max(left_1,right_1)]\n",
    "            else:\n",
    "                return[min(left_2,right_2),left_1]\n",
    "        else: return [min(left_2,right_2),max(left_1,right_1)]\n",
    "     \n",
    "    \n",
    "#scores = [7,9,18,22,30,11,8,13]\n",
    "#scores = [7,9,18,101,12,17,45,99,43,11,7,17,55,33,15,91]\n",
    "treeDepth = math.floor(math.log(len(scores), 2))\n",
    "print(\"The optimal value is : \", end = \"\")\n",
    "print(evenmax(0, 0, True, scores, treeDepth))\n",
    " "
   ]
  },
  {
   "cell_type": "code",
   "execution_count": null,
   "id": "00809b42",
   "metadata": {},
   "outputs": [],
   "source": []
  },
  {
   "cell_type": "code",
   "execution_count": null,
   "id": "8e1e873f",
   "metadata": {},
   "outputs": [],
   "source": []
  }
 ],
 "metadata": {
  "kernelspec": {
   "display_name": "Python 3 (ipykernel)",
   "language": "python",
   "name": "python3"
  },
  "language_info": {
   "codemirror_mode": {
    "name": "ipython",
    "version": 3
   },
   "file_extension": ".py",
   "mimetype": "text/x-python",
   "name": "python",
   "nbconvert_exporter": "python",
   "pygments_lexer": "ipython3",
   "version": "3.9.13"
  }
 },
 "nbformat": 4,
 "nbformat_minor": 5
}
