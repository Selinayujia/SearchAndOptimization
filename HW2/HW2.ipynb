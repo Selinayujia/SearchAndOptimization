{
 "cells": [
  {
   "cell_type": "code",
   "execution_count": 44,
   "id": "68498a27",
   "metadata": {},
   "outputs": [
    {
     "name": "stdout",
     "output_type": "stream",
     "text": [
      "The optimal value is : 45\n"
     ]
    }
   ],
   "source": [
    "import math\n",
    "\n",
    "def is_even(num):\n",
    "    return num%2 == 0\n",
    " \n",
    "def evenmax (curDepth, nodeIndex,\n",
    "             maxTurn, scores,\n",
    "             targetDepth,option=None):\n",
    " \n",
    "    # base case : targetDepth reached\n",
    "    if (curDepth == targetDepth):\n",
    "        return scores[nodeIndex]\n",
    "    \n",
    "    if (curDepth == 0 and maxTurn):\n",
    "        left = evenmax(curDepth + 1, nodeIndex * 2, False, scores, targetDepth)\n",
    "        right = evenmax(curDepth + 1, nodeIndex * 2 + 1, False, scores, targetDepth)\n",
    "        return max(left, right)   \n",
    "     \n",
    "    elif (maxTurn):\n",
    "        left = evenmax(curDepth + 1, nodeIndex * 2, False, scores, targetDepth)\n",
    "        right = evenmax(curDepth + 1, nodeIndex * 2 + 1, False, scores, targetDepth)\n",
    "            \n",
    "        if option == 'even':\n",
    "            if (is_even(left) == is_even(right)):\n",
    "                return max(left, right)\n",
    "            else:\n",
    "                return left if is_even(left) else right\n",
    "        else:\n",
    "            return max(left,right)\n",
    "     \n",
    "    else:\n",
    "        left = max(evenmax(curDepth + 1, nodeIndex * 2, True, scores, targetDepth, 'even'),\n",
    "                   evenmax(curDepth + 1, nodeIndex * 2, True, scores, targetDepth, 'max'))\n",
    "        \n",
    "        right = max(evenmax(curDepth + 1, nodeIndex * 2 + 1, True, scores, targetDepth, 'even'),\n",
    "                    evenmax(curDepth + 1, nodeIndex * 2 + 1, True, scores, targetDepth, 'max'))\n",
    "                    \n",
    "        if is_even(left) and is_even(right):\n",
    "            return max(left, right)\n",
    "        elif not(is_even(left) or is_even(right)):\n",
    "            return min(left, right)\n",
    "        else:\n",
    "            return left if is_even(left) else right\n",
    "     \n",
    "scores = [7,9,45,101,12,77,45,99,43,11,7,17,55,33,15,91]\n",
    " \n",
    "treeDepth = math.floor(math.log(len(scores), 2))\n",
    "print(\"The optimal value is : \", end = \"\")\n",
    "print(evenmax(0, 0, True, scores, treeDepth))\n",
    " "
   ]
  },
  {
   "cell_type": "code",
   "execution_count": null,
   "id": "8e02f6b2",
   "metadata": {},
   "outputs": [],
   "source": []
  },
  {
   "cell_type": "code",
   "execution_count": null,
   "id": "b6b456cd",
   "metadata": {},
   "outputs": [],
   "source": []
  }
 ],
 "metadata": {
  "kernelspec": {
   "display_name": "Python 3 (ipykernel)",
   "language": "python",
   "name": "python3"
  },
  "language_info": {
   "codemirror_mode": {
    "name": "ipython",
    "version": 3
   },
   "file_extension": ".py",
   "mimetype": "text/x-python",
   "name": "python",
   "nbconvert_exporter": "python",
   "pygments_lexer": "ipython3",
   "version": "3.9.13"
  }
 },
 "nbformat": 4,
 "nbformat_minor": 5
}
